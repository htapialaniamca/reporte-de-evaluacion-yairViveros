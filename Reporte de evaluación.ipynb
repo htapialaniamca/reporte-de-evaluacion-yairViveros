{
 "cells": [
  {
   "cell_type": "markdown",
   "metadata": {},
   "source": [
    "<h1>Reporte de evaluacion </h1>\n",
    "\n",
    "\n",
    "<p>La evaluacion llevada a cabo en el salon consistio en la modificacion y ejecucion de un script en python mediane mpi-run paraprender y apagardos leds</p>\n",
    "\n",
    "<p> como primer paso se realizo la conexion a la raspery \"rpi-lania1\" mediante el comando \"ssh pi@rpi-lania1.local\"para que la laptop se conectara via ssh con la rapery. </p>\n",
    "\n",
    "<p>como segundo paso se procedio a localizar el script en el directorio \"comades/python\" una vess que se aseguro la existencia del mismo, se procedio a conectarse en la raspery \"rpi-lania2.local\" mmediante el comando \"ssh pi@rpi-lania2.local\" para poder verificar que existiera el mismo archivo que permitiria encender y apagar los leds destinados para ello.</p>\n",
    "\n",
    "\n",
    "<p>una vez localizados ambos archivos se procedio a salir del ssh de la raspery rpi-lania2 para regresr a la raspery rpi-lania1 y posteriormente ejecutar el comando \"mpirun.openmpi -np 2 -host rpi-lania5.local,rpi-lania2.local python ledCustom.py\" corriendo todo sin problemas.</p> \n",
    "\n",
    "\n",
    "\n",
    "\n"
   ]
  }
 ],
 "metadata": {
  "kernelspec": {
   "display_name": "Python 2",
   "language": "python",
   "name": "python2"
  },
  "language_info": {
   "codemirror_mode": {
    "name": "ipython",
    "version": 2
   },
   "file_extension": ".py",
   "mimetype": "text/x-python",
   "name": "python",
   "nbconvert_exporter": "python",
   "pygments_lexer": "ipython2",
   "version": "2.7.13"
  }
 },
 "nbformat": 4,
 "nbformat_minor": 2
}
